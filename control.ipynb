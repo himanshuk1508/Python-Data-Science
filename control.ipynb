{
 "cells": [
  {
   "cell_type": "code",
   "execution_count": 7,
   "metadata": {},
   "outputs": [
    {
     "name": "stdout",
     "output_type": "stream",
     "text": [
      "Hurray!\n",
      "the end ☠\n"
     ]
    }
   ],
   "source": [
    "x=int(input(\"Enter a number:\"))\n",
    "if x>=10:\n",
    "    print(\"Hurray!\")\n",
    "print(\"the end ☠\")"
   ]
  },
  {
   "cell_type": "code",
   "execution_count": 8,
   "metadata": {},
   "outputs": [
    {
     "name": "stdout",
     "output_type": "stream",
     "text": [
      "even\n"
     ]
    }
   ],
   "source": [
    "if x % 2==0:\n",
    "    print(\"even\")"
   ]
  },
  {
   "cell_type": "code",
   "execution_count": 11,
   "metadata": {},
   "outputs": [
    {
     "name": "stdout",
     "output_type": "stream",
     "text": [
      "Budget mein hai\n"
     ]
    }
   ],
   "source": [
    "price=2200\n",
    "if price >2500:\n",
    "    print(\"Mahenga hai\")\n",
    "else:\n",
    "    print(\"Budget mein hai\")"
   ]
  },
  {
   "cell_type": "code",
   "execution_count": 21,
   "metadata": {},
   "outputs": [
    {
     "name": "stdout",
     "output_type": "stream",
     "text": [
      "250/600=41.66667%\n",
      "Grade: D\n"
     ]
    }
   ],
   "source": [
    "marks=int(input(\"Enter you number:\"))\n",
    "total=600\n",
    "pct=marks/total*100\n",
    "print(f\"{marks}/{total}={pct:.5f}%\")\n",
    "if pct >90:\n",
    "    grade=\"A\"\n",
    "elif pct >=75:\n",
    "    grade=\"B\"\n",
    "elif pct >=60:\n",
    "    grade=\"C\"\n",
    "elif pct >=40:\n",
    "    grade=\"D\"\n",
    "else:\n",
    "    grade=\"F\"\n",
    "print(f\"Grade: {grade}\")\n"
   ]
  },
  {
   "cell_type": "code",
   "execution_count": 25,
   "metadata": {},
   "outputs": [
    {
     "name": "stdout",
     "output_type": "stream",
     "text": [
      "What is the Capital of Uttar Pradesh?\n",
      "lucknow\n",
      "Correct ✅\n"
     ]
    }
   ],
   "source": [
    "print(\"What is the Capital of Uttar Pradesh?\")\n",
    "ans= input('Your Answer')\n",
    "print(ans)\n",
    "match ans:\n",
    "    case 'delhi':\n",
    "        print(\"incorrect ❎\")\n",
    "    case 'lucknow'|'Lucknow':\n",
    "        print(\"Correct ✅\")\n",
    "    case _:\n",
    "        print(\"Incorrect ❎\")\n"
   ]
  },
  {
   "cell_type": "markdown",
   "metadata": {},
   "source": [
    "Loop\n",
    "\n",
    "  =>Iteration based (For)\n",
    "  \n",
    "  =>Condition based (While)"
   ]
  },
  {
   "cell_type": "code",
   "execution_count": null,
   "metadata": {},
   "outputs": [],
   "source": []
  }
 ],
 "metadata": {
  "kernelspec": {
   "display_name": "base",
   "language": "python",
   "name": "python3"
  },
  "language_info": {
   "codemirror_mode": {
    "name": "ipython",
    "version": 3
   },
   "file_extension": ".py",
   "mimetype": "text/x-python",
   "name": "python",
   "nbconvert_exporter": "python",
   "pygments_lexer": "ipython3",
   "version": "3.11.5"
  }
 },
 "nbformat": 4,
 "nbformat_minor": 2
}
