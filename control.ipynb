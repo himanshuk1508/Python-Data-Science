{
 "cells": [
  {
   "cell_type": "code",
   "execution_count": null,
   "metadata": {},
   "outputs": [],
   "source": [
    "x=int(input(\"Enter a number:\"))\n",
    "if x>=10:\n",
    "    print(\"Hurray!\")\n",
    "print(\"the end ☠\")"
   ]
  },
  {
   "cell_type": "code",
   "execution_count": null,
   "metadata": {},
   "outputs": [],
   "source": [
    "if x % 2==0:\n",
    "    print(\"even\")"
   ]
  },
  {
   "cell_type": "code",
   "execution_count": null,
   "metadata": {},
   "outputs": [],
   "source": [
    "price=2200\n",
    "if price >2500:\n",
    "    print(\"Mahenga hai\")\n",
    "else:\n",
    "    print(\"Budget mein hai\")"
   ]
  },
  {
   "cell_type": "code",
   "execution_count": null,
   "metadata": {},
   "outputs": [],
   "source": [
    "marks=int(input(\"Enter you number:\"))\n",
    "total=600\n",
    "pct=marks/total*100\n",
    "print(f\"{marks}/{total}={pct:.5f}%\")\n",
    "if pct >90:\n",
    "    grade=\"A\"\n",
    "elif pct >=75:\n",
    "    grade=\"B\"\n",
    "elif pct >=60:\n",
    "    grade=\"C\"\n",
    "elif pct >=40:\n",
    "    grade=\"D\"\n",
    "else:\n",
    "    grade=\"F\"\n",
    "print(f\"Grade: {grade}\")\n"
   ]
  },
  {
   "cell_type": "code",
   "execution_count": null,
   "metadata": {},
   "outputs": [],
   "source": [
    "print(\"What is the Capital of Uttar Pradesh?\")\n",
    "ans= input('Your Answer')\n",
    "print(ans)\n",
    "match ans:\n",
    "    case 'delhi':\n",
    "        print(\"incorrect ❎\")\n",
    "    case 'lucknow'|'Lucknow':\n",
    "        print(\"Correct ✅\")\n",
    "    case _:\n",
    "        print(\"Incorrect ❎\")\n"
   ]
  },
  {
   "cell_type": "markdown",
   "metadata": {},
   "source": [
    "Loop\n",
    "\n",
    "  =>Iteration based (For)\n",
    "  \n",
    "  =>Condition based (While)"
   ]
  },
  {
   "cell_type": "code",
   "execution_count": 47,
   "metadata": {},
   "outputs": [],
   "source": [
    "movies=[\"The Shawshank Redemption\",\n",
    "\"The Godfather\",\n",
    "\"The Dark Knight\",\n",
    "\"Schindler's List\",\n",
    "\"Pulp Fiction\",\n",
    "\"The Lord of the Rings: The Return of the King\",\n",
    "\"Fight Club\",\n",
    "\"Forrest Gump\",\n",
    "\"Inception\",\n",
    "\"The Matrix\",\n",
    "\"The Silence of the Lambs\",\n",
    "\"The Lord of the Rings: The Fellowship of the Ring\",\n",
    "\"Star Wars: Episode V - The Empire Strikes Back\",\n",
    "\"The Green Mile\",\n",
    "\"Goodfellas\",\n",
    "\"The Lord of the Rings: The Two Towers\",\n",
    "\"The Matrix Reloaded\",\n",
    "\"Saving Private Ryan\",\n",
    "\"The Usual Suspects\",\n",
    "\"Se7en\",\n",
    "\"The Lion King\",\n",
    "\"Gladiator\",\n",
    "\"The Departed\",\n",
    "\"The Prestige\",\n",
    "\"The Avengers\"]"
   ]
  },
  {
   "cell_type": "code",
   "execution_count": null,
   "metadata": {},
   "outputs": [],
   "source": [
    "for i in movies:\n",
    "    print(i)"
   ]
  },
  {
   "cell_type": "code",
   "execution_count": null,
   "metadata": {},
   "outputs": [],
   "source": [
    "number=[12,456,765,38976]\n",
    "for i in number:\n",
    "    print(i)\n"
   ]
  },
  {
   "cell_type": "code",
   "execution_count": null,
   "metadata": {},
   "outputs": [],
   "source": [
    "for i in range(10,5,-1):\n",
    "    print(i)"
   ]
  },
  {
   "cell_type": "code",
   "execution_count": null,
   "metadata": {},
   "outputs": [],
   "source": [
    "for i in range(0,21,2):\n",
    "    print(i)"
   ]
  },
  {
   "cell_type": "code",
   "execution_count": null,
   "metadata": {},
   "outputs": [],
   "source": [
    "for name in movies:\n",
    "    if \"the\" in name.lower():\n",
    "        print(name)"
   ]
  },
  {
   "cell_type": "code",
   "execution_count": 2,
   "metadata": {},
   "outputs": [
    {
     "name": "stdout",
     "output_type": "stream",
     "text": [
      "28\n"
     ]
    }
   ],
   "source": [
    "x=[4,2,1,7,5,9]\n",
    "total=0\n",
    "for i in x:\n",
    "    total += i\n",
    "print(total)"
   ]
  },
  {
   "cell_type": "code",
   "execution_count": null,
   "metadata": {},
   "outputs": [],
   "source": [
    "sum(x)"
   ]
  },
  {
   "cell_type": "code",
   "execution_count": null,
   "metadata": {},
   "outputs": [],
   "source": [
    "len(x)"
   ]
  },
  {
   "cell_type": "code",
   "execution_count": 1,
   "metadata": {},
   "outputs": [
    {
     "name": "stdout",
     "output_type": "stream",
     "text": [
      "20 20\n",
      "21 420\n",
      "22 9240\n",
      "23 212520\n",
      "24 5100480\n",
      "25 127512000\n"
     ]
    }
   ],
   "source": [
    "n=25\n",
    "fact= 1\n",
    "for i in range(20, n+1):\n",
    "    fact *=i\n",
    "    print(i, fact)"
   ]
  },
  {
   "cell_type": "code",
   "execution_count": 48,
   "metadata": {},
   "outputs": [
    {
     "name": "stdout",
     "output_type": "stream",
     "text": [
      "1\n",
      "2\n",
      "3\n",
      "4\n",
      "5\n",
      "6\n",
      "7\n",
      "8\n",
      "9\n"
     ]
    }
   ],
   "source": [
    "a=1\n",
    "while a<10:\n",
    "    print(a)\n",
    "    a+=1"
   ]
  },
  {
   "cell_type": "code",
   "execution_count": 49,
   "metadata": {},
   "outputs": [
    {
     "name": "stdout",
     "output_type": "stream",
     "text": [
      "invalid input\n",
      "very good\n"
     ]
    }
   ],
   "source": [
    "while True:\n",
    "    x=input('Enter a number:')\n",
    "    if x.isnumeric():\n",
    "        print('very good')\n",
    "        break\n",
    "    else:\n",
    "        print('invalid input')\n"
   ]
  },
  {
   "cell_type": "code",
   "execution_count": null,
   "metadata": {},
   "outputs": [],
   "source": []
  }
 ],
 "metadata": {
  "kernelspec": {
   "display_name": "base",
   "language": "python",
   "name": "python3"
  },
  "language_info": {
   "codemirror_mode": {
    "name": "ipython",
    "version": 3
   },
   "file_extension": ".py",
   "mimetype": "text/x-python",
   "name": "python",
   "nbconvert_exporter": "python",
   "pygments_lexer": "ipython3",
   "version": "3.11.5"
  }
 },
 "nbformat": 4,
 "nbformat_minor": 2
}
