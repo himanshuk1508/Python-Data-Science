{
 "cells": [
  {
   "cell_type": "code",
   "execution_count": 1,
   "metadata": {},
   "outputs": [
    {
     "name": "stdout",
     "output_type": "stream",
     "text": [
      "(1, 2, 3)\n"
     ]
    }
   ],
   "source": [
    "x=(1,2,3)\n",
    "print(x)"
   ]
  },
  {
   "cell_type": "code",
   "execution_count": 5,
   "metadata": {},
   "outputs": [
    {
     "name": "stdout",
     "output_type": "stream",
     "text": [
      "(1, 2, 3) (2, 5, 6)\n"
     ]
    }
   ],
   "source": [
    "y=2,5,6\n",
    "print(x,y)"
   ]
  },
  {
   "cell_type": "code",
   "execution_count": 6,
   "metadata": {},
   "outputs": [
    {
     "name": "stdout",
     "output_type": "stream",
     "text": [
      "1\n",
      "2\n",
      "3\n"
     ]
    }
   ],
   "source": [
    "for i in x:\n",
    "    print(i)"
   ]
  },
  {
   "cell_type": "code",
   "execution_count": 10,
   "metadata": {},
   "outputs": [
    {
     "name": "stdout",
     "output_type": "stream",
     "text": [
      "1\n",
      "3\n"
     ]
    }
   ],
   "source": [
    "#x[0]=5 #error, tuple is immutable\n",
    "print(x[0])\n",
    "print(x[-1])"
   ]
  },
  {
   "cell_type": "code",
   "execution_count": 12,
   "metadata": {},
   "outputs": [
    {
     "name": "stdout",
     "output_type": "stream",
     "text": [
      "(1, 2, 4, 6, 9, 5, 3, 7, 8, 0)\n",
      "(1, 2, 4, 6, 9)\n",
      "(5, 3, 7, 8, 0)\n"
     ]
    }
   ],
   "source": [
    "a=1,2,4,6,9,5,3,7,8,0\n",
    "print(a)\n",
    "print(a[:5]) #first 5 elements\n",
    "print(a[-5:]) #last 5 elements "
   ]
  },
  {
   "cell_type": "code",
   "execution_count": 18,
   "metadata": {},
   "outputs": [
    {
     "name": "stdout",
     "output_type": "stream",
     "text": [
      "1\n",
      "0\n",
      "1\n",
      "6\n",
      "4\n",
      "1\n"
     ]
    }
   ],
   "source": [
    "#tuple has only 2 methods: Count and index\n",
    "print(a.count(1))\n",
    "print(a.count(10))\n",
    "print(a.count(7))\n",
    "print(a.index(3))\n",
    "print(a.index(9))\n",
    "print(a.index(2))"
   ]
  },
  {
   "cell_type": "markdown",
   "metadata": {},
   "source": [
    "SET"
   ]
  },
  {
   "cell_type": "code",
   "execution_count": 23,
   "metadata": {},
   "outputs": [
    {
     "name": "stdout",
     "output_type": "stream",
     "text": [
      "{1, 2, 3, 4, 5}\n",
      "{'banana', 'custard apple', 'cherry', 'apple', 'orange', 'pomegranate', 'dragon friut'}\n",
      "{'banana', 'apple', 'orange', 'dragon friut', 'custard apple', 'cherry', 'pomegranate', 'pineapple', 'kiwi'}\n",
      "{'banana', 'apple', 'dragon friut', 'custard apple', 'cherry', 'pomegranate', 'pineapple', 'kiwi'}\n"
     ]
    }
   ],
   "source": [
    "a={1,2,3,4,5,2,3,}\n",
    "print(a) # set will remove duplicates\n",
    "b={'apple','banana','orange','cherry','custard apple','pomegranate','dragon friut'}\n",
    "print(b)\n",
    "b.add('kiwi')\n",
    "b.add('pineapple')\n",
    "print(b)\n",
    "b.discard('orange')\n",
    "print(b)"
   ]
  },
  {
   "cell_type": "code",
   "execution_count": 26,
   "metadata": {},
   "outputs": [
    {
     "name": "stdout",
     "output_type": "stream",
     "text": [
      "{1, 2, 3, 4, 5, 6, 7, 8}\n",
      "{1, 2, 3, 4, 5, 6, 7, 8}\n",
      "{4, 5}\n",
      "{4, 5}\n",
      "{1, 2, 3}\n",
      "{1, 2, 3}\n",
      "{8, 6, 7}\n",
      "{8, 6, 7}\n"
     ]
    }
   ],
   "source": [
    "x={1,2,3,4,5}\n",
    "y={4,5,6,7,8}\n",
    "# union\n",
    "print(x|y) #join of x and y & removes duplicates\n",
    "print(x.union(y))\n",
    "#intersection\n",
    "print(x & y) # comman elements in x and y\n",
    "print(x.intersection(y))\n",
    "#difference\n",
    "print(x - y) #elements in x but not in y\n",
    "print(x.difference(y))\n",
    "print(y - x) # elements in y but not in   x \n",
    "print(y.difference(x))"
   ]
  },
  {
   "cell_type": "code",
   "execution_count": 27,
   "metadata": {},
   "outputs": [
    {
     "name": "stdout",
     "output_type": "stream",
     "text": [
      "{1, 2, 3, 6, 7, 8}\n",
      "{1, 2, 3, 6, 7, 8}\n"
     ]
    }
   ],
   "source": [
    "#symmetric difference\n",
    "print(x ^ y)\n",
    "print(x.symmetric_difference(y))"
   ]
  },
  {
   "cell_type": "code",
   "execution_count": 28,
   "metadata": {},
   "outputs": [
    {
     "name": "stdout",
     "output_type": "stream",
     "text": [
      "[1, 2, 3, 4, 5, 5, 6, 1, 2, 2] <=list\n",
      "{1, 2, 3, 4, 5, 6} <=set\n",
      "(1, 2, 3, 4, 5, 6) <=tuple\n",
      "[1, 2, 3, 4, 5, 6] <=list\n"
     ]
    }
   ],
   "source": [
    "x=[1,2,3,4,5,5,6,1,2,2]\n",
    "print(x, \"<=list\")\n",
    "xs=set(x)\n",
    "print(xs, \"<=set\")\n",
    "xt=tuple(xs)\n",
    "print(xt, \"<=tuple\")\n",
    "xl=list(xt)\n",
    "print(xl, \"<=list\")"
   ]
  },
  {
   "cell_type": "code",
   "execution_count": null,
   "metadata": {},
   "outputs": [],
   "source": []
  }
 ],
 "metadata": {
  "kernelspec": {
   "display_name": "base",
   "language": "python",
   "name": "python3"
  },
  "language_info": {
   "codemirror_mode": {
    "name": "ipython",
    "version": 3
   },
   "file_extension": ".py",
   "mimetype": "text/x-python",
   "name": "python",
   "nbconvert_exporter": "python",
   "pygments_lexer": "ipython3",
   "version": "3.11.5"
  }
 },
 "nbformat": 4,
 "nbformat_minor": 2
}
