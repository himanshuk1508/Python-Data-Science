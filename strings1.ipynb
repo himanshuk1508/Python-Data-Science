{
 "cells": [
  {
   "cell_type": "code",
   "execution_count": 3,
   "metadata": {},
   "outputs": [
    {
     "name": "stdout",
     "output_type": "stream",
     "text": [
      "Welcome\n",
      "welcome\n",
      "Welcome\n",
      "Hello, welcome to the \n",
      "world of python\n"
     ]
    }
   ],
   "source": [
    "my_string='Welcome'\n",
    "print(my_string)\n",
    "\n",
    "my_string=\"welcome\"\n",
    "print(my_string)\n",
    "\n",
    "my_string='''Welcome'''\n",
    "print(my_string)\n",
    "\n",
    "my_string=\"\"\"Hello, welcome to the \n",
    "world of python\"\"\"\n",
    "print(my_string)"
   ]
  },
  {
   "cell_type": "code",
   "execution_count": 5,
   "metadata": {},
   "outputs": [
    {
     "name": "stdout",
     "output_type": "stream",
     "text": [
      "str=> digipodium\n",
      "str[0]=> d\n",
      "str[2]=> g\n",
      "str[-1]=> m\n",
      "str[-4]=> d\n"
     ]
    }
   ],
   "source": [
    "str='digipodium'\n",
    "print('str=>', str)\n",
    "print('str[0]=>', str[0])\n",
    "print('str[2]=>', str[2])\n",
    "print('str[-1]=>', str[-1])\n",
    "print('str[-4]=>', str[-4])"
   ]
  },
  {
   "cell_type": "code",
   "execution_count": 7,
   "metadata": {},
   "outputs": [
    {
     "name": "stdout",
     "output_type": "stream",
     "text": [
      "pod\n",
      "podium\n",
      "digipo\n"
     ]
    }
   ],
   "source": [
    "s='digipodium'\n",
    "slice1=s[4:7]\n",
    "slice2=s[4:]\n",
    "slice3=s[:-4]\n",
    "print(slice1)\n",
    "print(slice2)\n",
    "print(slice3)\n"
   ]
  },
  {
   "cell_type": "code",
   "execution_count": 11,
   "metadata": {},
   "outputs": [
    {
     "name": "stdout",
     "output_type": "stream",
     "text": [
      "Deenanath\n",
      "Vijay\n",
      "Chauhan\n"
     ]
    }
   ],
   "source": [
    "name='Vijay Deenanath Chauhan'\n",
    "m_name=name[6:15]\n",
    "f_name=name[:5]\n",
    "l_name=name[-7:]\n",
    "print(m_name)\n",
    "print(f_name)\n",
    "print(l_name)\n"
   ]
  },
  {
   "cell_type": "code",
   "execution_count": 15,
   "metadata": {},
   "outputs": [
    {
     "name": "stdout",
     "output_type": "stream",
     "text": [
      "The quick \n",
      "y dog\n"
     ]
    }
   ],
   "source": [
    "sentence='The quick brown fox jumps over the lazy dog'\n",
    "print(sentence[:10])\n",
    "print(sentence[-5:])"
   ]
  },
  {
   "cell_type": "code",
   "execution_count": 17,
   "metadata": {},
   "outputs": [
    {
     "data": {
      "text/plain": [
       "12300"
      ]
     },
     "execution_count": 17,
     "metadata": {},
     "output_type": "execute_result"
    }
   ],
   "source": [
    "amt=\"$12300\"\n",
    "int(amt[1:])"
   ]
  },
  {
   "cell_type": "code",
   "execution_count": 23,
   "metadata": {},
   "outputs": [
    {
     "name": "stdout",
     "output_type": "stream",
     "text": [
      "pankaj\n",
      "pankaj\n"
     ]
    }
   ],
   "source": [
    "uname='@pankaj123'\n",
    "print(uname[1:-3])\n",
    "print(uname[1:7])"
   ]
  },
  {
   "cell_type": "markdown",
   "metadata": {},
   "source": [
    "Methods\n"
   ]
  },
  {
   "cell_type": "code",
   "execution_count": 1,
   "metadata": {},
   "outputs": [
    {
     "data": {
      "text/plain": [
       "'HELLO'"
      ]
     },
     "execution_count": 1,
     "metadata": {},
     "output_type": "execute_result"
    }
   ],
   "source": [
    "a=\"hello\"\n",
    "a.upper()"
   ]
  },
  {
   "cell_type": "code",
   "execution_count": 3,
   "metadata": {},
   "outputs": [
    {
     "name": "stdout",
     "output_type": "stream",
     "text": [
      "original: data Science\n",
      "upper: DATA SCIENCE\n",
      "lower: data science\n",
      "captialize: Data science\n"
     ]
    }
   ],
   "source": [
    "word='data Science'\n",
    "word2=word.upper()\n",
    "word3=word.lower()\n",
    "word4=word.capitalize()\n",
    "print(f'original: {word}')\n",
    "print(f'upper: {word2}')\n",
    "print(f'lower: {word3}')\n",
    "print(f'captialize: {word4}')"
   ]
  },
  {
   "cell_type": "code",
   "execution_count": 5,
   "metadata": {},
   "outputs": [
    {
     "name": "stdout",
     "output_type": "stream",
     "text": [
      "5\n",
      "13\n",
      "20\n"
     ]
    }
   ],
   "source": [
    "sentence='data science is the science of data'\n",
    "print(sentence.find('science')) #search from index 0 by default\n",
    "print(sentence.find('is'))\n",
    "print(sentence.find('science',6)) #find from index 6"
   ]
  },
  {
   "cell_type": "code",
   "execution_count": 11,
   "metadata": {},
   "outputs": [
    {
     "name": "stdout",
     "output_type": "stream",
     "text": [
      "13\n",
      "-1\n"
     ]
    }
   ],
   "source": [
    "sentence='the quick brown fox jumps over the lazy dog'\n",
    "print(sentence.find('wn'))\n",
    "print(sentence.find('red'))"
   ]
  },
  {
   "cell_type": "code",
   "execution_count": 16,
   "metadata": {},
   "outputs": [
    {
     "name": "stdout",
     "output_type": "stream",
     "text": [
      "the quick briwn fix jumps iver the lazy dig\n",
      "the quick green fox jumps over the lazy dog\n",
      "the quick violet rat kicks over the lazy goat\n"
     ]
    }
   ],
   "source": [
    "print(sentence.replace('o','i'))\n",
    "print(sentence.replace('brown','green'))\n",
    "print(sentence.replace('fox','rat').replace('dog','goat').replace('jumps','kicks').replace('brown','violet'))"
   ]
  },
  {
   "cell_type": "code",
   "execution_count": 18,
   "metadata": {},
   "outputs": [
    {
     "name": "stdout",
     "output_type": "stream",
     "text": [
      "2\n",
      "6\n",
      "0\n"
     ]
    }
   ],
   "source": [
    "story='once there was a king named Arthur, who was a great king'\n",
    "print(story.count('king'))\n",
    "print(story.count('a'))\n",
    "print(story.count('queen'))"
   ]
  },
  {
   "cell_type": "code",
   "execution_count": 19,
   "metadata": {},
   "outputs": [
    {
     "name": "stdout",
     "output_type": "stream",
     "text": [
      "['once', 'there', 'was', 'a', 'king', 'named', 'Arthur,', 'who', 'was', 'a', 'great', 'king']\n",
      "['once there was a king named Arthur', ' who was a great king']\n"
     ]
    }
   ],
   "source": [
    "print(story.split())\n",
    "print(story.split(','))"
   ]
  },
  {
   "cell_type": "code",
   "execution_count": 23,
   "metadata": {},
   "outputs": [
    {
     "name": "stdout",
     "output_type": "stream",
     "text": [
      "['Jhonny Jhonny, Yes papa', 'Eating Sugar? No papa', 'Telling Lies? No papa', 'Open your Mouth Ha! Ha! Ha!']\n",
      "['Jhonny Jhonny, Yes ', '\\nEating Sugar? No ', '\\nTelling Lies? No ', '\\nOpen your Mouth Ha! Ha! Ha!']\n",
      "['Jhonny Jhonny, Yes papa\\nEating Sugar', ' No papa\\nTelling Lies', ' No papa\\nOpen your Mouth Ha! Ha! Ha!']\n",
      "['Jhonny Jhonny, Yes papa', 'Eating Sugar? No papa', 'Telling Lies? No papa', 'Open your Mouth Ha! Ha! Ha!']\n"
     ]
    }
   ],
   "source": [
    "poem='''Jhonny Jhonny, Yes papa\n",
    "Eating Sugar? No papa\n",
    "Telling Lies? No papa\n",
    "Open your Mouth Ha! Ha! Ha!'''\n",
    "print(poem.splitlines())\n",
    "print(poem.split('papa'))\n",
    "print(poem.split('?'))\n",
    "print(poem.split('\\n'))"
   ]
  },
  {
   "cell_type": "code",
   "execution_count": 25,
   "metadata": {},
   "outputs": [
    {
     "name": "stdout",
     "output_type": "stream",
     "text": [
      "C:/Users/Admin/Desktop/Pyhton/Pyhton.txt\n",
      "C:,Users,Admin,Desktop,Pyhton,Pyhton.txt\n",
      "C:😎Users😎Admin😎Desktop😎Pyhton😎Pyhton.txt\n"
     ]
    }
   ],
   "source": [
    "pathList=['C:','Users','Admin','Desktop','Pyhton','Pyhton.txt']\n",
    "print('/'.join(pathList))\n",
    "print(','.join(pathList))\n",
    "print('😎'.join(pathList))"
   ]
  },
  {
   "cell_type": "code",
   "execution_count": 26,
   "metadata": {},
   "outputs": [
    {
     "name": "stdout",
     "output_type": "stream",
     "text": [
      "Total items= 80\n"
     ]
    }
   ],
   "source": [
    "import os\n",
    "content =os.listdir('C:/Users/ASUS/Downloads/')\n",
    "print(f'Total items= {len(content)}')"
   ]
  },
  {
   "cell_type": "code",
   "execution_count": 27,
   "metadata": {},
   "outputs": [
    {
     "name": "stdout",
     "output_type": "stream",
     "text": [
      "2023_11_14 4_54 PM Office Lens.pdf\n",
      "Amit Yadav CV.pdf\n",
      "Amit Yadav Resume(CV).pdf\n",
      "Amit Yadav Resume.pdf\n",
      "ceh-official-certified-ethical-hacker-review-guide-exam-312-50.9780782144376.27422.pdf\n",
      "CUETPGApplicationForm-243510053648.pdf\n",
      "download.pdf\n",
      "electricity bill .pdf\n",
      "Himanshu Kushwaha Resume.pdf\n",
      "IBM CC0103EN Certificate _ IBM SkillsBuild.pdf\n",
      "IMG_20240105_181123.pdf\n",
      "IMG_20240105_181257.pdf\n",
      "IMG_20240105_181921.pdf\n",
      "IMG_20240105_182633.pdf\n",
      "IMG_20240106_123427.pdf\n",
      "Man Singh.pdf\n",
      "Man Singh_compressed (1).pdf\n",
      "Man Singh_compressed.pdf\n",
      "PHP Question.pdf\n",
      "Print Receipt 5th sem.pdf\n",
      "Proof .pdf\n",
      "renewal fee reciept.pdf\n",
      "SHALINI UPPSC.pdf\n",
      "SkillsBuild.pdf\n",
      "UP EXCISE e-lottery (1).pdf\n",
      "UP EXCISE e-lottery.pdf\n",
      "upexciseelottery.upsdc.gov.in_SignUp_RegistrationSlip_Code=c4LQ25LCv0GZRBZ83z_zSGJF0FyNvS-3KtFC0lIk2Y4,.pdf\n",
      "View Application Form.pdf\n"
     ]
    }
   ],
   "source": [
    "for items in content:\n",
    "    if items.endswith('pdf'):\n",
    "        print(items)"
   ]
  },
  {
   "cell_type": "code",
   "execution_count": 28,
   "metadata": {},
   "outputs": [
    {
     "name": "stdout",
     "output_type": "stream",
     "text": [
      "#####.rar\n",
      "20230411_231510-01.jpeg\n",
      "2023_10_26 8_30 AM Office Lens.jpg\n",
      "2023_11_14 4_54 PM Office Lens.pdf\n",
      "2024_01_05 5_31 PM Office Lens.jpg\n",
      "Amit Yadav CV.pdf\n",
      "Amit Yadav Resume(CV).pdf\n",
      "Amit Yadav Resume.docx\n",
      "Amit Yadav Resume.pdf\n",
      "ayanokoji_kiyotaka_by_kirito471_dfocmaz-pre.jpg\n",
      "B9ECED6F.ASUSPCAssistant_qmba6cd70vzyy!App\n",
      "BraveBrowserSetup-BRV011.exe\n",
      "ceh-official-certified-ethical-hacker-review-guide-exam-312-50.9780782144376.27422.pdf\n",
      "ChromeSetup.exe\n",
      "Cosmic Byte Firestorm Mouse Software\n",
      "Cosmic Byte Firestorm Mouse Software.zip\n",
      "CUETPGApplicationForm-243510053648.pdf\n",
      "desktop.ini\n",
      "DiscordSetup.exe\n",
      "download.pdf\n",
      "electricity bill .pdf\n",
      "EpicInstaller-15.17.1.msi\n",
      "Firefox Installer.exe\n",
      "GeForce_Experience_v3.27.0.112.exe\n",
      "GenshinImpact_install_20230508113739.exe\n",
      "Git-2.43.0-64-bit.exe\n",
      "Himanshu Kushwaha Resume.pdf\n",
      "IBM CC0103EN Certificate _ IBM SkillsBuild.pdf\n",
      "IMG_20240105_181123.jpg\n",
      "IMG_20240105_181123.pdf\n",
      "IMG_20240105_181257.jpg\n",
      "IMG_20240105_181257.pdf\n",
      "IMG_20240105_181921.jpg\n",
      "IMG_20240105_181921.pdf\n",
      "IMG_20240105_182633.jpg\n",
      "IMG_20240105_182633.pdf\n",
      "IMG_20240106_123427.pdf\n",
      "Install VALORANT (1).exe\n",
      "Install VALORANT.exe\n",
      "kali-linux-2023.2-virtualbox-amd64\n",
      "Man Singh.pdf\n",
      "Man Singh_compressed (1).pdf\n",
      "Man Singh_compressed.pdf\n",
      "McAfee_Installer_serial_s9Jk_DrH4m_sup24thu8VA2_key_affid_885_akey.exe\n",
      "Miniconda3-latest-Windows-x86_64.exe\n",
      "PHP Question.pdf\n",
      "Print Receipt 5th sem.pdf\n",
      "Profile Photo.jpeg\n",
      "Proof .pdf\n",
      "Python Synopsis Template.docx\n",
      "python-3.11.4-amd64.exe\n",
      "Python_Synopsis_shantanu.docx\n",
      "renewal fee reciept.pdf\n",
      "SHALINI UPPSC.pdf\n",
      "Signature (1).jpg\n",
      "SkillsBuild.pdf\n",
      "south-indian-man-gesturing-and-smiling-W9KCCG.jpg\n",
      "SteamSetup.exe\n",
      "Telegram Desktop\n",
      "tsetup-x64.4.8.1.exe\n",
      "UP EXCISE e-lottery (1).pdf\n",
      "UP EXCISE e-lottery.csv\n",
      "UP EXCISE e-lottery.pdf\n",
      "UP EXCISE e-lottery.xlsx\n",
      "upexciseelottery.upsdc.gov.in_SignUp_RegistrationSlip_Code=c4LQ25LCv0GZRBZ83z_zSGJF0FyNvS-3KtFC0lIk2Y4,.pdf\n",
      "utweb_installer.exe\n",
      "View Application Form.pdf\n",
      "VirtualBox-7.0.8-156879-Win.exe\n",
      "VSCodeUserSetup-x64-1.86.0.exe\n",
      "wallpaperflare.com_wallpaper (1).jpg\n",
      "wallpaperflare.com_wallpaper (2).jpg\n",
      "wallpaperflare.com_wallpaper (3).jpg\n",
      "wallpaperflare.com_wallpaper (4).jpg\n",
      "wallpaperflare.com_wallpaper (5).jpg\n",
      "wallpaperflare.com_wallpaper (6).jpg\n",
      "wallpaperflare.com_wallpaper (7).jpg\n",
      "wallpaperflare.com_wallpaper.jpg\n",
      "winrar-x64-622.exe\n",
      "WirelessLan_ROG_MediaTek_Z_V3.00.01.1264Sub1_30243.exe\n",
      "[FreeCourseSite.com] Udemy - Website Hacking  Penetration Testing & Bug Bounty Hunting\n"
     ]
    }
   ],
   "source": [
    "for items in content:\n",
    "    print(items)"
   ]
  },
  {
   "cell_type": "code",
   "execution_count": 48,
   "metadata": {},
   "outputs": [
    {
     "name": "stdout",
     "output_type": "stream",
     "text": [
      "Amit Yadav CV.pdf\n",
      "Amit Yadav Resume(CV).pdf\n",
      "Amit Yadav Resume.docx\n",
      "Amit Yadav Resume.pdf\n",
      "------------------------------\n",
      "Total items= 4\n"
     ]
    }
   ],
   "source": [
    "total=0\n",
    "for items in content:\n",
    "    if items.startswith('Am'):\n",
    "        print(items)\n",
    "        total +=1\n",
    "print('---'*10)\n",
    "print(f'Total items= {total}')"
   ]
  },
  {
   "cell_type": "code",
   "execution_count": 39,
   "metadata": {},
   "outputs": [
    {
     "name": "stdout",
     "output_type": "stream",
     "text": [
      "2023_11_14 4_54 PM Office Lens.pdf\n",
      "Amit Yadav CV.pdf\n",
      "Amit Yadav Resume(CV).pdf\n",
      "Amit Yadav Resume.pdf\n",
      "ceh-official-certified-ethical-hacker-review-guide-exam-312-50.9780782144376.27422.pdf\n",
      "CUETPGApplicationForm-243510053648.pdf\n",
      "download.pdf\n",
      "electricity bill .pdf\n",
      "Himanshu Kushwaha Resume.pdf\n",
      "IBM CC0103EN Certificate _ IBM SkillsBuild.pdf\n",
      "IMG_20240105_181123.pdf\n",
      "IMG_20240105_181257.pdf\n",
      "IMG_20240105_181921.pdf\n",
      "IMG_20240105_182633.pdf\n",
      "IMG_20240106_123427.pdf\n",
      "Man Singh.pdf\n",
      "Man Singh_compressed (1).pdf\n",
      "Man Singh_compressed.pdf\n",
      "PHP Question.pdf\n",
      "Print Receipt 5th sem.pdf\n",
      "Proof .pdf\n",
      "renewal fee reciept.pdf\n",
      "SHALINI UPPSC.pdf\n",
      "SkillsBuild.pdf\n",
      "UP EXCISE e-lottery (1).pdf\n",
      "UP EXCISE e-lottery.pdf\n",
      "upexciseelottery.upsdc.gov.in_SignUp_RegistrationSlip_Code=c4LQ25LCv0GZRBZ83z_zSGJF0FyNvS-3KtFC0lIk2Y4,.pdf\n",
      "View Application Form.pdf\n",
      "------------------------------\n",
      "Total items= 28\n"
     ]
    }
   ],
   "source": [
    "total=0\n",
    "for items in content:\n",
    "    if items.endswith('pdf'):\n",
    "        print(items)\n",
    "        total +=1\n",
    "print('---'*10)\n",
    "print(f'Total items= {total}')"
   ]
  },
  {
   "cell_type": "code",
   "execution_count": null,
   "metadata": {},
   "outputs": [],
   "source": []
  }
 ],
 "metadata": {
  "kernelspec": {
   "display_name": "base",
   "language": "python",
   "name": "python3"
  },
  "language_info": {
   "codemirror_mode": {
    "name": "ipython",
    "version": 3
   },
   "file_extension": ".py",
   "mimetype": "text/x-python",
   "name": "python",
   "nbconvert_exporter": "python",
   "pygments_lexer": "ipython3",
   "version": "3.11.5"
  }
 },
 "nbformat": 4,
 "nbformat_minor": 2
}
