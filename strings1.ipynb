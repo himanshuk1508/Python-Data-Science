{
 "cells": [
  {
   "cell_type": "code",
   "execution_count": 3,
   "metadata": {},
   "outputs": [
    {
     "name": "stdout",
     "output_type": "stream",
     "text": [
      "Welcome\n",
      "welcome\n",
      "Welcome\n",
      "Hello, welcome to the \n",
      "world of python\n"
     ]
    }
   ],
   "source": [
    "my_string='Welcome'\n",
    "print(my_string)\n",
    "\n",
    "my_string=\"welcome\"\n",
    "print(my_string)\n",
    "\n",
    "my_string='''Welcome'''\n",
    "print(my_string)\n",
    "\n",
    "my_string=\"\"\"Hello, welcome to the \n",
    "world of python\"\"\"\n",
    "print(my_string)"
   ]
  },
  {
   "cell_type": "code",
   "execution_count": 5,
   "metadata": {},
   "outputs": [
    {
     "name": "stdout",
     "output_type": "stream",
     "text": [
      "str=> digipodium\n",
      "str[0]=> d\n",
      "str[2]=> g\n",
      "str[-1]=> m\n",
      "str[-4]=> d\n"
     ]
    }
   ],
   "source": [
    "str='digipodium'\n",
    "print('str=>', str)\n",
    "print('str[0]=>', str[0])\n",
    "print('str[2]=>', str[2])\n",
    "print('str[-1]=>', str[-1])\n",
    "print('str[-4]=>', str[-4])"
   ]
  },
  {
   "cell_type": "code",
   "execution_count": 7,
   "metadata": {},
   "outputs": [
    {
     "name": "stdout",
     "output_type": "stream",
     "text": [
      "pod\n",
      "podium\n",
      "digipo\n"
     ]
    }
   ],
   "source": [
    "s='digipodium'\n",
    "slice1=s[4:7]\n",
    "slice2=s[4:]\n",
    "slice3=s[:-4]\n",
    "print(slice1)\n",
    "print(slice2)\n",
    "print(slice3)\n"
   ]
  },
  {
   "cell_type": "code",
   "execution_count": 11,
   "metadata": {},
   "outputs": [
    {
     "name": "stdout",
     "output_type": "stream",
     "text": [
      "Deenanath\n",
      "Vijay\n",
      "Chauhan\n"
     ]
    }
   ],
   "source": [
    "name='Vijay Deenanath Chauhan'\n",
    "m_name=name[6:15]\n",
    "f_name=name[:5]\n",
    "l_name=name[-7:]\n",
    "print(m_name)\n",
    "print(f_name)\n",
    "print(l_name)\n"
   ]
  },
  {
   "cell_type": "code",
   "execution_count": 15,
   "metadata": {},
   "outputs": [
    {
     "name": "stdout",
     "output_type": "stream",
     "text": [
      "The quick \n",
      "y dog\n"
     ]
    }
   ],
   "source": [
    "sentence='The quick brown fox jumps over the lazy dog'\n",
    "print(sentence[:10])\n",
    "print(sentence[-5:])"
   ]
  },
  {
   "cell_type": "code",
   "execution_count": 17,
   "metadata": {},
   "outputs": [
    {
     "data": {
      "text/plain": [
       "12300"
      ]
     },
     "execution_count": 17,
     "metadata": {},
     "output_type": "execute_result"
    }
   ],
   "source": [
    "amt=\"$12300\"\n",
    "int(amt[1:])"
   ]
  },
  {
   "cell_type": "code",
   "execution_count": 23,
   "metadata": {},
   "outputs": [
    {
     "name": "stdout",
     "output_type": "stream",
     "text": [
      "pankaj\n",
      "pankaj\n"
     ]
    }
   ],
   "source": [
    "uname='@pankaj123'\n",
    "print(uname[1:-3])\n",
    "print(uname[1:7])"
   ]
  },
  {
   "cell_type": "code",
   "execution_count": null,
   "metadata": {},
   "outputs": [],
   "source": []
  }
 ],
 "metadata": {
  "kernelspec": {
   "display_name": "base",
   "language": "python",
   "name": "python3"
  },
  "language_info": {
   "codemirror_mode": {
    "name": "ipython",
    "version": 3
   },
   "file_extension": ".py",
   "mimetype": "text/x-python",
   "name": "python",
   "nbconvert_exporter": "python",
   "pygments_lexer": "ipython3",
   "version": "3.11.5"
  }
 },
 "nbformat": 4,
 "nbformat_minor": 2
}
