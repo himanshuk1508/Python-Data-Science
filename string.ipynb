{
 "cells": [
  {
   "cell_type": "code",
   "execution_count": 1,
   "metadata": {},
   "outputs": [
    {
     "name": "stdout",
     "output_type": "stream",
     "text": [
      "string\n"
     ]
    }
   ],
   "source": [
    "print('string')"
   ]
  },
  {
   "cell_type": "code",
   "execution_count": 2,
   "metadata": {},
   "outputs": [
    {
     "name": "stdout",
     "output_type": "stream",
     "text": [
      "<class 'str'>\n"
     ]
    }
   ],
   "source": [
    "print(type('Hello'))"
   ]
  },
  {
   "cell_type": "code",
   "execution_count": 4,
   "metadata": {},
   "outputs": [
    {
     "name": "stdout",
     "output_type": "stream",
     "text": [
      "This is string type 1\n",
      "This is string type 2\n",
      "this is\n",
      "        string type 3\n"
     ]
    }
   ],
   "source": [
    "str_1='This is string type 1'\n",
    "print(str_1)\n",
    "str_2=\"This is string type 2\"\n",
    "print(str_2)\n",
    "str_3='''this is\n",
    "        string type 3'''\n",
    "print(str_3)"
   ]
  },
  {
   "cell_type": "markdown",
   "metadata": {},
   "source": [
    "Indexing\n"
   ]
  },
  {
   "cell_type": "code",
   "execution_count": 11,
   "metadata": {},
   "outputs": [
    {
     "name": "stdout",
     "output_type": "stream",
     "text": [
      "a\n",
      "n\n",
      "e\n",
      "P\n",
      "e\n",
      "Str=> a\n"
     ]
    }
   ],
   "source": [
    "str_4=\"PythonDataScience\"\n",
    "print(str_4[7])\n",
    "print(str_4[5])\n",
    "print(str_4[-1])\n",
    "print(str_4[0])\n",
    "print(str_4[-4])\n",
    "print(\"Str=>\", str_4[-8])"
   ]
  },
  {
   "cell_type": "markdown",
   "metadata": {},
   "source": [
    "Slicing\n"
   ]
  },
  {
   "cell_type": "code",
   "execution_count": 24,
   "metadata": {},
   "outputs": [
    {
     "name": "stdout",
     "output_type": "stream",
     "text": [
      "honDa\n",
      "ataSc\n",
      "nDataScience\n",
      "cience\n",
      "PythonDat\n"
     ]
    }
   ],
   "source": [
    "str_5='PythonDataScience'\n",
    "slice1= str_5[3:8]\n",
    "slice2= str_5[7:12]\n",
    "slice3= str_5[5:len(str_5)]\n",
    "slice4= str_5[-6:]\n",
    "slice5= str_5[:-8]\n",
    "print(slice1)\n",
    "print(slice2)\n",
    "print(slice3)\n",
    "print(slice4)\n",
    "print(slice5)"
   ]
  },
  {
   "cell_type": "markdown",
   "metadata": {},
   "source": [
    "Builtin Functions"
   ]
  },
  {
   "cell_type": "code",
   "execution_count": 29,
   "metadata": {},
   "outputs": [
    {
     "name": "stdout",
     "output_type": "stream",
     "text": [
      "<class 'str'>\n"
     ]
    }
   ],
   "source": [
    "a= chr(1) #chr() convert integer into string char\n",
    "print(type(a))\n"
   ]
  },
  {
   "cell_type": "code",
   "execution_count": 31,
   "metadata": {},
   "outputs": [
    {
     "name": "stdout",
     "output_type": "stream",
     "text": [
      "<class 'int'>\n"
     ]
    }
   ],
   "source": [
    "b= ord('H') #ord() convert a char into integer\n",
    "print(type(b))"
   ]
  },
  {
   "cell_type": "code",
   "execution_count": 33,
   "metadata": {},
   "outputs": [
    {
     "name": "stdout",
     "output_type": "stream",
     "text": [
      "5\n",
      "8\n"
     ]
    }
   ],
   "source": [
    "c= len('Hello') #len() return length of string\n",
    "print(c)\n",
    "print(len('Function'))"
   ]
  },
  {
   "cell_type": "code",
   "execution_count": 35,
   "metadata": {},
   "outputs": [
    {
     "name": "stdout",
     "output_type": "stream",
     "text": [
      "<class 'str'>\n"
     ]
    }
   ],
   "source": [
    "d= str(123) #str() convert ites into string\n",
    "print(type(d))"
   ]
  },
  {
   "cell_type": "markdown",
   "metadata": {},
   "source": [
    "Concatenation"
   ]
  },
  {
   "cell_type": "code",
   "execution_count": 42,
   "metadata": {},
   "outputs": [
    {
     "name": "stdout",
     "output_type": "stream",
     "text": [
      "PyhtonDataScience\n",
      "Pyhton_Data_Science\n",
      "Pyhton Data Science\n"
     ]
    }
   ],
   "source": [
    "a1=\"Pyhton\"\n",
    "a2=\"Data\"\n",
    "a3=\"Science\"\n",
    "\n",
    "x=a1+a2+a3\n",
    "print(x)\n",
    "y=a1+'_'+a2+'_'+a3\n",
    "z=a1+' '+a2+' '+a3\n",
    "print(y)\n",
    "print(z)"
   ]
  },
  {
   "cell_type": "code",
   "execution_count": 44,
   "metadata": {},
   "outputs": [
    {
     "name": "stdout",
     "output_type": "stream",
     "text": [
      "hellohellohellohellohello\n",
      "*****\n"
     ]
    }
   ],
   "source": [
    "T=\"hello\"\n",
    "print(T*5)\n",
    "print('*'*5)"
   ]
  },
  {
   "cell_type": "markdown",
   "metadata": {},
   "source": [
    "Pattern "
   ]
  },
  {
   "cell_type": "code",
   "execution_count": 47,
   "metadata": {},
   "outputs": [
    {
     "name": "stdout",
     "output_type": "stream",
     "text": [
      "**\n",
      "***\n",
      "****\n",
      "*****\n",
      "******\n",
      "*******\n"
     ]
    }
   ],
   "source": [
    "for i in range(2,8):\n",
    "    print('*'*i)\n",
    "    \n"
   ]
  },
  {
   "cell_type": "code",
   "execution_count": 57,
   "metadata": {},
   "outputs": [
    {
     "name": "stdout",
     "output_type": "stream",
     "text": [
      "            LLLLLLLL\n",
      "             LLLLLLL\n",
      "              LLLLLL\n",
      "               LLLLL\n",
      "                LLLL\n"
     ]
    }
   ],
   "source": [
    "for p in range(8,3,-1):\n",
    "    print(('L'*p).rjust(20))"
   ]
  },
  {
   "cell_type": "code",
   "execution_count": 60,
   "metadata": {},
   "outputs": [
    {
     "name": "stdout",
     "output_type": "stream",
     "text": [
      "         T          \n",
      "        TTTT        \n",
      "      TTTTTTT       \n",
      "     TTTTTTTTTT     \n",
      "   TTTTTTTTTTTTT    \n",
      "  TTTTTTTTTTTTTTTT  \n",
      "TTTTTTTTTTTTTTTTTTT \n"
     ]
    }
   ],
   "source": [
    "for t in range(1,20,3):\n",
    "    print((\"T\"*t).center(20))"
   ]
  },
  {
   "cell_type": "code",
   "execution_count": null,
   "metadata": {},
   "outputs": [],
   "source": []
  }
 ],
 "metadata": {
  "kernelspec": {
   "display_name": "base",
   "language": "python",
   "name": "python3"
  },
  "language_info": {
   "codemirror_mode": {
    "name": "ipython",
    "version": 3
   },
   "file_extension": ".py",
   "mimetype": "text/x-python",
   "name": "python",
   "nbconvert_exporter": "python",
   "pygments_lexer": "ipython3",
   "version": "3.11.5"
  }
 },
 "nbformat": 4,
 "nbformat_minor": 2
}
